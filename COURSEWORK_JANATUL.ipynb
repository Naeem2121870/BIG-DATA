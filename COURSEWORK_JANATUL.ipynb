{
  "nbformat": 4,
  "nbformat_minor": 0,
  "metadata": {
    "colab": {
      "provenance": [],
      "authorship_tag": "ABX9TyMj3T9IPZQiU0dvC2oxbXC8",
      "include_colab_link": true
    },
    "kernelspec": {
      "name": "python3",
      "display_name": "Python 3"
    },
    "language_info": {
      "name": "python"
    }
  },
  "cells": [
    {
      "cell_type": "markdown",
      "metadata": {
        "id": "view-in-github",
        "colab_type": "text"
      },
      "source": [
        "<a href=\"https://colab.research.google.com/github/Naeem2121870/BIG-DATA/blob/main/COURSEWORK_JANATUL.ipynb\" target=\"_parent\"><img src=\"https://colab.research.google.com/assets/colab-badge.svg\" alt=\"Open In Colab\"/></a>"
      ]
    },
    {
      "cell_type": "markdown",
      "source": [
        "# **THIS IS THE COURSEWORK OF JANATUL ABOUT -- BREST CANCER**"
      ],
      "metadata": {
        "id": "u_q5eg51xaeo"
      }
    },
    {
      "cell_type": "markdown",
      "source": [
        "# **1 Research & Data Exploration**"
      ],
      "metadata": {
        "id": "GzpV8h-doUi0"
      }
    },
    {
      "cell_type": "markdown",
      "source": [
        "**1.1 Dataset**"
      ],
      "metadata": {
        "id": "AiV2M4aKttDI"
      }
    },
    {
      "cell_type": "markdown",
      "source": [
        "1.1\tDataset\n",
        "The name of the dataset I choose is: “ Breast Cancer Wisconsin (Original) ”.\n",
        "\n",
        "The time when I was downloaded the dataset is: ‎Thursday, ‎October ‎12, ‎2023, ‏‎12:07:50 AM.\n",
        "\n",
        "Breast cancer is a major threat to public health. Because of Working with breast cancer data permits us to contribute to the understanding and treatment of this disease, perhaps improving patient outcomes.\n"
      ],
      "metadata": {
        "id": "UpzWaC2owzs1"
      }
    },
    {
      "cell_type": "markdown",
      "source": [
        "# **1.2 Related Work & Data Exploration**"
      ],
      "metadata": {
        "id": "BgEKwRRxzFS-"
      }
    },
    {
      "cell_type": "markdown",
      "source": [
        "1. Dataset Overview:\n",
        "2. Objectives:\n",
        "3. Peer-Reviewed paper:\n",
        "4. Data Exploration:\n"
      ],
      "metadata": {
        "id": "LLoMIU-NzeP0"
      }
    },
    {
      "cell_type": "markdown",
      "source": [
        "# **1.3 Data Pre-processing**"
      ],
      "metadata": {
        "id": "mebdp4Jw0ccW"
      }
    },
    {
      "cell_type": "markdown",
      "source": [
        "Import basic dependencies"
      ],
      "metadata": {
        "id": "cpibD41-1SiL"
      }
    },
    {
      "cell_type": "code",
      "source": [
        "import numpy as np  # For numerical operations\n",
        "import pandas as pd  # For data manipulation and analysis\n",
        "import matplotlib.pyplot as plt  # For data visualization"
      ],
      "metadata": {
        "id": "swRVdXvI1pKH"
      },
      "execution_count": null,
      "outputs": []
    },
    {
      "cell_type": "markdown",
      "source": [
        "Get uci ml repo dependency"
      ],
      "metadata": {
        "id": "EgIuUblR20R-"
      }
    },
    {
      "cell_type": "code",
      "source": [
        "!pip install  ucimlrepo"
      ],
      "metadata": {
        "colab": {
          "base_uri": "https://localhost:8080/"
        },
        "id": "t7wANJWv7dJ6",
        "outputId": "f268389d-e531-477c-be5e-210b22189fda"
      },
      "execution_count": 2,
      "outputs": [
        {
          "output_type": "stream",
          "name": "stdout",
          "text": [
            "Collecting ucimlrepo\n",
            "  Downloading ucimlrepo-0.0.3-py3-none-any.whl (7.0 kB)\n",
            "Installing collected packages: ucimlrepo\n",
            "Successfully installed ucimlrepo-0.0.3\n"
          ]
        }
      ]
    },
    {
      "cell_type": "markdown",
      "source": [
        "Output Feature"
      ],
      "metadata": {
        "id": "SuD5R69P26T7"
      }
    },
    {
      "cell_type": "code",
      "source": [
        "from ucimlrepo import fetch_ucirepo\n",
        "\n",
        "#fetch dataset\n",
        "breast = fetch_ucirepo(id=15)\n",
        "\n",
        "#data (as pandas dataframes)\n",
        "X = breast.data.features\n",
        "y= breast.data.targets\n",
        "\n",
        "#metadata\n",
        "print(breast.metadata)\n",
        "\n",
        "#variabel infoermation\n",
        "print(breast.variables)"
      ],
      "metadata": {
        "id": "Jw48rIsb5Mf7",
        "colab": {
          "base_uri": "https://localhost:8080/"
        },
        "outputId": "5f491f82-5524-48c3-8722-aee7f648696e"
      },
      "execution_count": 3,
      "outputs": [
        {
          "output_type": "stream",
          "name": "stdout",
          "text": [
            "{'uci_id': 15, 'name': 'Breast Cancer Wisconsin (Original)', 'repository_url': 'https://archive.ics.uci.edu/dataset/15/breast+cancer+wisconsin+original', 'data_url': 'https://archive.ics.uci.edu/static/public/15/data.csv', 'abstract': 'Original Wisconsin Breast Cancer Database', 'area': 'Life Science', 'tasks': ['Classification'], 'characteristics': ['Multivariate'], 'num_instances': 699, 'num_features': 9, 'feature_types': ['Integer'], 'demographics': [], 'target_col': ['Class'], 'index_col': ['Sample_code_number'], 'has_missing_values': 'yes', 'missing_values_symbol': 'NaN', 'year_of_dataset_creation': 1990, 'last_updated': 'Thu Aug 10 2023', 'dataset_doi': '10.24432/C5HP4Z', 'creators': ['WIlliam Wolberg'], 'intro_paper': None, 'additional_info': {'summary': \"Samples arrive periodically as Dr. Wolberg reports his clinical cases. The database therefore reflects this chronological grouping of the data. This grouping information appears immediately below, having been removed from the data itself:\\r\\n\\r\\nGroup 1: 367 instances (January 1989)\\r\\nGroup 2:  70 instances (October 1989)\\r\\nGroup 3:  31 instances (February 1990)\\r\\nGroup 4:  17 instances (April 1990)\\r\\nGroup 5:  48 instances (August 1990)\\r\\nGroup 6:  49 instances (Updated January 1991)\\r\\nGroup 7:  31 instances (June 1991)\\r\\nGroup 8:  86 instances (November 1991)\\r\\n-----------------------------------------\\r\\nTotal:   699 points (as of the donated datbase on 15 July 1992)\\r\\n\\r\\nNote that the results summarized above in Past Usage refer to a dataset of size 369, while Group 1 has only 367 instances.  This is because it originally contained 369 instances; 2 were removed.  The following statements summarizes changes to the original Group 1's set of data:\\r\\n\\r\\n#####  Group 1 : 367 points: 200B 167M (January 1989)\\r\\n\\r\\n#####  Revised Jan 10, 1991: Replaced zero bare nuclei in 1080185 & 1187805\\r\\n\\r\\n#####  Revised Nov 22,1991: Removed 765878,4,5,9,7,10,10,10,3,8,1 no record\\r\\n#####                  : Removed 484201,2,7,8,8,4,3,10,3,4,1 zero epithelial\\r\\n#####                  : Changed 0 to 1 in field 6 of sample 1219406\\r\\n#####                  : Changed 0 to 1 in field 8 of following sample:\\r\\n#####                  : 1182404,2,3,1,1,1,2,0,1,1,1\", 'purpose': None, 'funded_by': None, 'instances_represent': None, 'recommended_data_splits': None, 'sensitive_data': None, 'preprocessing_description': None, 'variable_info': '1. Sample code number:            id number\\r\\n2. Clump Thickness:               1 - 10\\r\\n3. Uniformity of Cell Size:       1 - 10\\r\\n4. Uniformity of Cell Shape:      1 - 10\\r\\n5. Marginal Adhesion:             1 - 10\\r\\n6. Single Epithelial Cell Size:   1 - 10\\r\\n7. Bare Nuclei:                   1 - 10\\r\\n8. Bland Chromatin:               1 - 10\\r\\n9. Normal Nucleoli:               1 - 10\\r\\n10. Mitoses:                       1 - 10\\r\\n11. Class:                        (2 for benign, 4 for malignant)', 'citation': None}}\n",
            "                           name     role         type demographic  \\\n",
            "0            Sample_code_number       ID  Categorical        None   \n",
            "1               Clump_thickness  Feature      Integer        None   \n",
            "2       Uniformity_of_cell_size  Feature      Integer        None   \n",
            "3      Uniformity_of_cell_shape  Feature      Integer        None   \n",
            "4             Marginal_adhesion  Feature      Integer        None   \n",
            "5   Single_epithelial_cell_size  Feature      Integer        None   \n",
            "6                   Bare_nuclei  Feature      Integer        None   \n",
            "7               Bland_chromatin  Feature      Integer        None   \n",
            "8               Normal_nucleoli  Feature      Integer        None   \n",
            "9                       Mitoses  Feature      Integer        None   \n",
            "10                        Class   Target       Binary        None   \n",
            "\n",
            "                  description units missing_values  \n",
            "0                        None  None             no  \n",
            "1                        None  None             no  \n",
            "2                        None  None             no  \n",
            "3                        None  None             no  \n",
            "4                        None  None             no  \n",
            "5                        None  None             no  \n",
            "6                        None  None            yes  \n",
            "7                        None  None             no  \n",
            "8                        None  None             no  \n",
            "9                        None  None             no  \n",
            "10  2 = benign, 4 = malignant  None             no  \n"
          ]
        }
      ]
    }
  ]
}