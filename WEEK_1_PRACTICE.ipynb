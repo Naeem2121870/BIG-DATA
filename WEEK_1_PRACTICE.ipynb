{
  "nbformat": 4,
  "nbformat_minor": 0,
  "metadata": {
    "colab": {
      "provenance": [],
      "authorship_tag": "ABX9TyNBe/FCipMG7nySe7jAuYP4",
      "include_colab_link": true
    },
    "kernelspec": {
      "name": "python3",
      "display_name": "Python 3"
    },
    "language_info": {
      "name": "python"
    }
  },
  "cells": [
    {
      "cell_type": "markdown",
      "metadata": {
        "id": "view-in-github",
        "colab_type": "text"
      },
      "source": [
        "<a href=\"https://colab.research.google.com/github/Naeem2121870/BIG-DATA/blob/main/WEEK_1_PRACTICE.ipynb\" target=\"_parent\"><img src=\"https://colab.research.google.com/assets/colab-badge.svg\" alt=\"Open In Colab\"/></a>"
      ]
    },
    {
      "cell_type": "markdown",
      "source": [
        "**INTRODUCTION OF PYTHON**"
      ],
      "metadata": {
        "id": "-JkdspeA7QAt"
      }
    },
    {
      "cell_type": "code",
      "source": [
        " #integers, float, etc.. python\n",
        "\n",
        "x= 3\n",
        "y = 10.3\n",
        "Msg = 'Result'\n",
        "fx = x+y * 10 ** 2 #math operations\n",
        "print ('The Result is',fx)"
      ],
      "metadata": {
        "colab": {
          "base_uri": "https://localhost:8080/"
        },
        "id": "VGodxnC17a5q",
        "outputId": "f57986b2-55fa-4ef0-8bff-3bf2d4e633bf"
      },
      "execution_count": null,
      "outputs": [
        {
          "output_type": "stream",
          "name": "stdout",
          "text": [
            "The Result is 1033.0\n"
          ]
        }
      ]
    },
    {
      "cell_type": "code",
      "source": [
        " #A bit of formating the output\n",
        "print(f'The{Msg} is {fx}')"
      ],
      "metadata": {
        "colab": {
          "base_uri": "https://localhost:8080/"
        },
        "id": "kYBRDbte78ZY",
        "outputId": "4567764d-9c5f-4db3-9a58-241a3b8eca06"
      },
      "execution_count": null,
      "outputs": [
        {
          "output_type": "stream",
          "name": "stdout",
          "text": [
            "TheResult is 1033.0\n"
          ]
        }
      ]
    },
    {
      "cell_type": "code",
      "source": [
        "print (f'The modulo operation inp Python is %, so for instace 10%3 is {10%3}')"
      ],
      "metadata": {
        "colab": {
          "base_uri": "https://localhost:8080/"
        },
        "id": "FzJaoZ__8gD4",
        "outputId": "6fbf2069-e170-4ee2-ac42-85edc8e654e2"
      },
      "execution_count": null,
      "outputs": [
        {
          "output_type": "stream",
          "name": "stdout",
          "text": [
            "The modulo operation inp Python is %, so for instace 10%3 is 1\n"
          ]
        }
      ]
    },
    {
      "cell_type": "markdown",
      "source": [
        "# **LISTS**"
      ],
      "metadata": {
        "id": "AF1BCwX_8wd4"
      }
    },
    {
      "cell_type": "code",
      "source": [
        "my_lst = [1,2,3,4,5,6,7,8,9,10]\n",
        "print ('First element in the list is', my_lst[0])\n",
        "print ('Last element in the list is', my_lst [len(my_lst)-1])##"
      ],
      "metadata": {
        "colab": {
          "base_uri": "https://localhost:8080/"
        },
        "id": "cYkeYROD88ER",
        "outputId": "dd26f750-daac-49f8-93c9-b1ed82e975b3"
      },
      "execution_count": null,
      "outputs": [
        {
          "output_type": "stream",
          "name": "stdout",
          "text": [
            "First element in the list is 1\n",
            "Last element in the list is 10\n"
          ]
        }
      ]
    },
    {
      "cell_type": "code",
      "source": [
        "#slicing is an important concept in accessing elements in the list\n",
        "sub_lst = my_lst[2:4]# returns a list of the 2nd, 3rd and 4th element of the above list\n",
        "sub_lst"
      ],
      "metadata": {
        "colab": {
          "base_uri": "https://localhost:8080/"
        },
        "id": "F8YzheBF-GX5",
        "outputId": "4568b7a9-37a4-4964-d3fe-6452e3f586f4"
      },
      "execution_count": null,
      "outputs": [
        {
          "output_type": "execute_result",
          "data": {
            "text/plain": [
              "[3, 4]"
            ]
          },
          "metadata": {},
          "execution_count": 11
        }
      ]
    },
    {
      "cell_type": "code",
      "source": [
        "#more on slicing\n",
        "my_lst [:1] # first element\n",
        "my_lst [1:]#all elements apart from the first one\n",
        "my_lst [-1:] #last element\n",
        "my_lst [:-1] #all elements apart from the last one"
      ],
      "metadata": {
        "colab": {
          "base_uri": "https://localhost:8080/"
        },
        "id": "8_VQjVee-N2L",
        "outputId": "c9a85e15-d1d1-405f-c5bc-34ffea74251f"
      },
      "execution_count": null,
      "outputs": [
        {
          "output_type": "execute_result",
          "data": {
            "text/plain": [
              "[1, 2, 3, 4, 5, 6, 7, 8, 9]"
            ]
          },
          "metadata": {},
          "execution_count": 12
        }
      ]
    },
    {
      "cell_type": "markdown",
      "source": [
        "**STRING**"
      ],
      "metadata": {
        "id": "y8f1qt93-yYj"
      }
    },
    {
      "cell_type": "code",
      "source": [
        "msg = 'Welcome to RGU'\n",
        "print(msg[1])\n",
        "print(f'first char of msg is {msg[0]}')"
      ],
      "metadata": {
        "colab": {
          "base_uri": "https://localhost:8080/"
        },
        "id": "CT39NZZ1-6py",
        "outputId": "a88ed7fe-6098-4043-cd47-e583cae31045"
      },
      "execution_count": null,
      "outputs": [
        {
          "output_type": "stream",
          "name": "stdout",
          "text": [
            "e\n",
            "first char of msg is W\n"
          ]
        }
      ]
    },
    {
      "cell_type": "code",
      "source": [
        "tuple_example = 1,2,4,10,24\n",
        "print (tuple_example)"
      ],
      "metadata": {
        "colab": {
          "base_uri": "https://localhost:8080/"
        },
        "id": "VuHnwA_V_Nfd",
        "outputId": "45a69296-4e99-4b75-9c58-4f6aecd0c5a3"
      },
      "execution_count": null,
      "outputs": [
        {
          "output_type": "stream",
          "name": "stdout",
          "text": [
            "(1, 2, 4, 10, 24)\n"
          ]
        }
      ]
    },
    {
      "cell_type": "code",
      "source": [
        "print (tuple_example[0])\n",
        "print (tuple_example [:2])\n",
        "print (tuple_example [:3]) #notice this returns tuples\n",
        "print (tuple_example [1:])\n",
        "print (tuple_example)"
      ],
      "metadata": {
        "colab": {
          "base_uri": "https://localhost:8080/"
        },
        "id": "8tbKB5dn_eMV",
        "outputId": "94bb809c-47c2-496c-ca31-bc83c2d9961d"
      },
      "execution_count": null,
      "outputs": [
        {
          "output_type": "stream",
          "name": "stdout",
          "text": [
            "1\n",
            "(1, 2)\n",
            "(1, 2, 4)\n",
            "(2, 4, 10, 24)\n",
            "(1, 2, 4, 10, 24)\n"
          ]
        }
      ]
    },
    {
      "cell_type": "markdown",
      "source": [
        "**DICTIONARY**"
      ],
      "metadata": {
        "id": "NcdcmFQ9_6G4"
      }
    },
    {
      "cell_type": "code",
      "source": [
        "#dictionary to represent taught modules\n",
        "module_dict = {\n",
        "    \"Code\" : \"CM3111\",\n",
        "    \"Name\": \"Big Data Analytics\",\n",
        "    \"Year\": 2020,\n",
        "    \"Stage\":3\n",
        "}\n",
        "print (module_dict)\n"
      ],
      "metadata": {
        "colab": {
          "base_uri": "https://localhost:8080/"
        },
        "id": "HIM5isdj_-jV",
        "outputId": "e2165384-6802-4846-e70d-f81c29743957"
      },
      "execution_count": null,
      "outputs": [
        {
          "output_type": "stream",
          "name": "stdout",
          "text": [
            "{'Code': 'CM3111', 'Name': 'Big Data Analytics', 'Year': 2020, 'Stage': 3}\n"
          ]
        }
      ]
    },
    {
      "cell_type": "code",
      "source": [
        "print (f'Module {module_dict[\"Code\"]}')\n",
        "print(f'Is {module_dict[\"Name\"]}')\n",
        "print(f'And will be taught to students of Stage {module_dict[\"Stage\"]}')\n",
        "print (f'And will be delivered in the year {module_dict[\"Year\"]}')"
      ],
      "metadata": {
        "colab": {
          "base_uri": "https://localhost:8080/"
        },
        "id": "Yih3frNaAqII",
        "outputId": "7a9ad2f3-8a30-4b0a-8af2-cda537492d7e"
      },
      "execution_count": null,
      "outputs": [
        {
          "output_type": "stream",
          "name": "stdout",
          "text": [
            "Module CM3111\n",
            "Is Big Data Analytics\n",
            "And will be taught to students of Stage 3\n",
            "And will be delivered in the year 2020\n"
          ]
        }
      ]
    },
    {
      "cell_type": "code",
      "source": [
        "print(module_dict.get('Code'))"
      ],
      "metadata": {
        "colab": {
          "base_uri": "https://localhost:8080/"
        },
        "id": "kU-IbdQlBXsh",
        "outputId": "cd398189-233c-4e7f-f3b3-1cbe7a212a93"
      },
      "execution_count": null,
      "outputs": [
        {
          "output_type": "stream",
          "name": "stdout",
          "text": [
            "CM3111\n"
          ]
        }
      ]
    },
    {
      "cell_type": "code",
      "source": [
        "module_dict[\"Year\"] = 2021\n",
        "print (module_dict[\"Year\"])"
      ],
      "metadata": {
        "colab": {
          "base_uri": "https://localhost:8080/"
        },
        "id": "JXecHZqLBfIP",
        "outputId": "843992f9-d7dc-41d6-ad42-ce223a5090ac"
      },
      "execution_count": null,
      "outputs": [
        {
          "output_type": "stream",
          "name": "stdout",
          "text": [
            "2021\n"
          ]
        }
      ]
    },
    {
      "cell_type": "code",
      "source": [
        "for key, value in module_dict.items():\n",
        "  print(key,':',value)"
      ],
      "metadata": {
        "colab": {
          "base_uri": "https://localhost:8080/"
        },
        "id": "T9hMfu_eCDSa",
        "outputId": "fdd5208b-181c-4792-9f6b-fceabde33e31"
      },
      "execution_count": null,
      "outputs": [
        {
          "output_type": "stream",
          "name": "stdout",
          "text": [
            "Code : CM3111\n",
            "Name : Big Data Analytics\n",
            "Year : 2021\n",
            "Stage : 3\n"
          ]
        }
      ]
    },
    {
      "cell_type": "code",
      "source": [
        "print(type(module_dict))#dict\n",
        "print(type(tuple_example))## tuple\n",
        "print(type(my_lst))#"
      ],
      "metadata": {
        "colab": {
          "base_uri": "https://localhost:8080/"
        },
        "id": "6NhhKWRACGrP",
        "outputId": "02c5267a-bbb8-45d9-ec63-5faf75a3d3e2"
      },
      "execution_count": null,
      "outputs": [
        {
          "output_type": "stream",
          "name": "stdout",
          "text": [
            "<class 'dict'>\n",
            "<class 'tuple'>\n",
            "<class 'list'>\n"
          ]
        }
      ]
    },
    {
      "cell_type": "markdown",
      "source": [
        "**PYTHON CASTING**\n"
      ],
      "metadata": {
        "id": "nrALooFxCZz4"
      }
    },
    {
      "cell_type": "code",
      "source": [
        "float_v = 1.1\n",
        "int_v =1\n",
        "string_v = 'this is string'\n",
        "#check data types"
      ],
      "metadata": {
        "id": "U1Qxw4pdCock"
      },
      "execution_count": null,
      "outputs": []
    },
    {
      "cell_type": "code",
      "source": [
        "print(type(float_v))\n",
        "print(type(int_v))\n",
        "print(type(string_v))"
      ],
      "metadata": {
        "colab": {
          "base_uri": "https://localhost:8080/"
        },
        "id": "9VgnM-aXC8X7",
        "outputId": "785aea2c-475e-463e-d8a9-49080d98db64"
      },
      "execution_count": null,
      "outputs": [
        {
          "output_type": "stream",
          "name": "stdout",
          "text": [
            "<class 'float'>\n",
            "<class 'int'>\n",
            "<class 'str'>\n"
          ]
        }
      ]
    },
    {
      "cell_type": "markdown",
      "source": [
        "**LOGICAL OPERATIONS**"
      ],
      "metadata": {
        "id": "Hf1MA2RjDO0V"
      }
    },
    {
      "cell_type": "code",
      "source": [
        "print(1 ==1)#check if two values are equal\n",
        "print(10<9) #less than\n",
        "print (10>9) #greater than\n",
        "print (10>=9) #greater than or equal"
      ],
      "metadata": {
        "colab": {
          "base_uri": "https://localhost:8080/"
        },
        "id": "R0Kfcen7DTrd",
        "outputId": "3150c1e7-ee23-4b6a-eff6-cb334bc472c4"
      },
      "execution_count": null,
      "outputs": [
        {
          "output_type": "stream",
          "name": "stdout",
          "text": [
            "True\n",
            "False\n",
            "True\n",
            "True\n"
          ]
        }
      ]
    },
    {
      "cell_type": "code",
      "source": [
        "small =10\n",
        "big = 100\n",
        "results = ((small <big) and (big%small ==0))\n",
        "results1 = ((small<big) and (big%small!=0))\n",
        "results2 = ((small <big) or (big%small!=0))\n",
        "results3 = ((small >big) or (big%small!=0))\n",
        "print(f'({small} <{big}) and ({big}%{small}==0)', results)\n",
        "print(f'({small} <{big}) and ({big}%{small}!==0)', results1)\n",
        "print(f'({small} <{big}) and ({big}%{small}!==0)', results2)\n",
        "print(f'({small} >{big}) and ({big}%{small}!==0)', results3)"
      ],
      "metadata": {
        "colab": {
          "base_uri": "https://localhost:8080/"
        },
        "id": "0d1shzULDp1v",
        "outputId": "9476caae-70c6-4261-9727-589c498e11a8"
      },
      "execution_count": null,
      "outputs": [
        {
          "output_type": "stream",
          "name": "stdout",
          "text": [
            "(10 <100) and (100%10==0) True\n",
            "(10 <100) and (100%10!==0) False\n",
            "(10 <100) and (100%10!==0) True\n",
            "(10 >100) and (100%10!==0) False\n"
          ]
        }
      ]
    },
    {
      "cell_type": "markdown",
      "source": [
        "**Conditions and Loops**"
      ],
      "metadata": {
        "id": "1veJb37jJRrU"
      }
    },
    {
      "cell_type": "markdown",
      "source": [
        "**IF Statement**"
      ],
      "metadata": {
        "id": "CnDvtRVvJYc0"
      }
    },
    {
      "cell_type": "code",
      "source": [
        "a =33\n",
        "b=200\n",
        "if b>a:\n",
        "  print ('b is greater than a because', f\"{b} is greater than {a}\")\n",
        "else:\n",
        "  print (f\"{b} is greater thaN {a}\")\n"
      ],
      "metadata": {
        "colab": {
          "base_uri": "https://localhost:8080/"
        },
        "id": "LoPmX9cZJc-S",
        "outputId": "c8d00b59-3b9b-479b-c156-c0103496c8ff"
      },
      "execution_count": null,
      "outputs": [
        {
          "output_type": "stream",
          "name": "stdout",
          "text": [
            "b is greater than a because 200 is greater than 33\n"
          ]
        }
      ]
    },
    {
      "cell_type": "markdown",
      "source": [
        "**elif**"
      ],
      "metadata": {
        "id": "t2bAbPCAKyQn"
      }
    },
    {
      "cell_type": "code",
      "source": [
        "a=200\n",
        "b=33\n",
        "if b>a:\n",
        "  print(\"b is greater than a\")\n",
        "elif a==b:\n",
        "    print(\"a and b are equal\")\n",
        "else:\n",
        "    print(\"a is greater than b\")"
      ],
      "metadata": {
        "colab": {
          "base_uri": "https://localhost:8080/"
        },
        "id": "k3t8R6ZRKLSA",
        "outputId": "12163f9a-bb67-4bcd-aaf5-b021cc18ec5f"
      },
      "execution_count": null,
      "outputs": [
        {
          "output_type": "stream",
          "name": "stdout",
          "text": [
            "a is greater than b\n"
          ]
        }
      ]
    },
    {
      "cell_type": "code",
      "source": [
        "if a>b : print(\"a is greater than b\")"
      ],
      "metadata": {
        "colab": {
          "base_uri": "https://localhost:8080/"
        },
        "id": "_zSLrRpRK4YN",
        "outputId": "4fa9b74b-af74-4e4f-cf14-3f896f184b6e"
      },
      "execution_count": null,
      "outputs": [
        {
          "output_type": "stream",
          "name": "stdout",
          "text": [
            "a is greater than b\n"
          ]
        }
      ]
    },
    {
      "cell_type": "code",
      "source": [
        "a=200\n",
        "b=33\n",
        "c=500\n",
        "#both conditions must be true\n",
        "if a>b and c>a:\n",
        "  print(\"Both conditions are True\")"
      ],
      "metadata": {
        "colab": {
          "base_uri": "https://localhost:8080/"
        },
        "id": "bPqpTYAELIXe",
        "outputId": "db7a728b-6385-4418-dac4-0d742c62e333"
      },
      "execution_count": null,
      "outputs": [
        {
          "output_type": "stream",
          "name": "stdout",
          "text": [
            "Both conditions are True\n"
          ]
        }
      ]
    },
    {
      "cell_type": "code",
      "source": [
        "a=200\n",
        "b=33\n",
        "c=500\n",
        "\n",
        "if a>b or a>c:\n",
        "  print (\"AT least one of the conditions is True\")"
      ],
      "metadata": {
        "colab": {
          "base_uri": "https://localhost:8080/"
        },
        "id": "PQO3sgF9LgwP",
        "outputId": "fc10433a-5910-4c7e-b768-8c845db061ae"
      },
      "execution_count": null,
      "outputs": [
        {
          "output_type": "stream",
          "name": "stdout",
          "text": [
            "AT least one of the conditions is True\n"
          ]
        }
      ]
    },
    {
      "cell_type": "markdown",
      "source": [
        "**While**"
      ],
      "metadata": {
        "id": "ZLR11d06MFZJ"
      }
    },
    {
      "cell_type": "code",
      "source": [
        "i = 1\n",
        "while i<10:\n",
        "  print(f'{i} to power 2 is {i**2}')\n",
        "  i +=1"
      ],
      "metadata": {
        "colab": {
          "base_uri": "https://localhost:8080/"
        },
        "id": "jG-QHI0PMHW5",
        "outputId": "3bfce774-77e8-4b41-e5a4-59fa1c4ced3b"
      },
      "execution_count": null,
      "outputs": [
        {
          "output_type": "stream",
          "name": "stdout",
          "text": [
            "1 to power 2 is 1\n",
            "2 to power 2 is 4\n",
            "3 to power 2 is 9\n",
            "4 to power 2 is 16\n",
            "5 to power 2 is 25\n",
            "6 to power 2 is 36\n",
            "7 to power 2 is 49\n",
            "8 to power 2 is 64\n",
            "9 to power 2 is 81\n"
          ]
        }
      ]
    },
    {
      "cell_type": "markdown",
      "source": [
        "**Break**"
      ],
      "metadata": {
        "id": "DXuLOJ3BMYBY"
      }
    },
    {
      "cell_type": "code",
      "source": [
        "i =1\n",
        "while i<10:\n",
        "  print (f'{i} to the power 2 is {i**2}')\n",
        "  i +=1\n",
        "  if i>5:\n",
        "    break"
      ],
      "metadata": {
        "colab": {
          "base_uri": "https://localhost:8080/"
        },
        "id": "UsMlGy8FMgTt",
        "outputId": "dc6a0643-a8b5-4cfc-a277-5d8ee228725d"
      },
      "execution_count": null,
      "outputs": [
        {
          "output_type": "stream",
          "name": "stdout",
          "text": [
            "1 to the power 2 is 1\n",
            "2 to the power 2 is 4\n",
            "3 to the power 2 is 9\n",
            "4 to the power 2 is 16\n",
            "5 to the power 2 is 25\n"
          ]
        }
      ]
    },
    {
      "cell_type": "code",
      "source": [
        "i = 0\n",
        "while i<10:\n",
        "   i+= 1 #i =i+1\n",
        "   if i==5: #skip five\n",
        "      continue\n",
        "   print(f'{i} to the power 2 is {i**2}')"
      ],
      "metadata": {
        "colab": {
          "base_uri": "https://localhost:8080/"
        },
        "id": "8-yq7rt9_AWV",
        "outputId": "ea9b4341-1e32-42c8-871e-7353af6640db"
      },
      "execution_count": 5,
      "outputs": [
        {
          "output_type": "stream",
          "name": "stdout",
          "text": [
            "1 to the power 2 is 1\n",
            "2 to the power 2 is 4\n",
            "3 to the power 2 is 9\n",
            "4 to the power 2 is 16\n",
            "6 to the power 2 is 36\n",
            "7 to the power 2 is 49\n",
            "8 to the power 2 is 64\n",
            "9 to the power 2 is 81\n",
            "10 to the power 2 is 100\n"
          ]
        }
      ]
    },
    {
      "cell_type": "code",
      "source": [
        "ds_tools = [\"Python\", \"R\", \"Git\"]\n",
        "for tool in ds_tools:\n",
        "  print ('Data Science Tool:', tool)"
      ],
      "metadata": {
        "colab": {
          "base_uri": "https://localhost:8080/"
        },
        "id": "eYJSNJuV_0nP",
        "outputId": "90b7a6c7-3052-4940-e136-9b763615bd1c"
      },
      "execution_count": 6,
      "outputs": [
        {
          "output_type": "stream",
          "name": "stdout",
          "text": [
            "Data Science Tool: Python\n",
            "Data Science Tool: R\n",
            "Data Science Tool: Git\n"
          ]
        }
      ]
    },
    {
      "cell_type": "code",
      "source": [
        "#range keyword\n",
        "for i in range (10):\n",
        "    print(f'square of {i} is {i**2}')"
      ],
      "metadata": {
        "colab": {
          "base_uri": "https://localhost:8080/"
        },
        "id": "tVzpmlHZAMXn",
        "outputId": "9725056d-4fc7-493b-d848-84ab7bb2916e"
      },
      "execution_count": 7,
      "outputs": [
        {
          "output_type": "stream",
          "name": "stdout",
          "text": [
            "square of 0 is 0\n",
            "square of 1 is 1\n",
            "square of 2 is 4\n",
            "square of 3 is 9\n",
            "square of 4 is 16\n",
            "square of 5 is 25\n",
            "square of 6 is 36\n",
            "square of 7 is 49\n",
            "square of 8 is 64\n",
            "square of 9 is 81\n"
          ]
        }
      ]
    },
    {
      "cell_type": "code",
      "source": [
        "#loop through letters of a string\n",
        "for i in 'The University':\n",
        "    print(i)\n",
        "    if i ==' ':\n",
        "        break"
      ],
      "metadata": {
        "colab": {
          "base_uri": "https://localhost:8080/"
        },
        "id": "oE6bmSS4AfAU",
        "outputId": "184a53eb-223f-4ac5-e929-95ca9647bf62"
      },
      "execution_count": 8,
      "outputs": [
        {
          "output_type": "stream",
          "name": "stdout",
          "text": [
            "T\n",
            "h\n",
            "e\n",
            " \n"
          ]
        }
      ]
    },
    {
      "cell_type": "markdown",
      "source": [
        "## **Function**"
      ],
      "metadata": {
        "id": "ONDpovu0BXju"
      }
    },
    {
      "cell_type": "code",
      "source": [
        "def power_func(x):\n",
        "    results = x**2\n",
        "    results = results * 2 + 5\n",
        "    return results\n",
        "    power_func(5)\n",
        ""
      ],
      "metadata": {
        "id": "gywyyT6WBdO_"
      },
      "execution_count": 10,
      "outputs": []
    },
    {
      "cell_type": "code",
      "source": [
        "def cubic_x (x,y):\n",
        "    return x**y +5\n"
      ],
      "metadata": {
        "id": "iG7lYWnVCkIF"
      },
      "execution_count": 13,
      "outputs": []
    },
    {
      "cell_type": "code",
      "source": [
        "x = 3\n",
        "y = 2\n",
        "print (f'{x}^{y} + 5 is {cubic_x(x,y)}')"
      ],
      "metadata": {
        "colab": {
          "base_uri": "https://localhost:8080/"
        },
        "id": "kQkcqMonDKrC",
        "outputId": "45fe32ff-6fb3-4297-fbe9-0b1f6bb16ab2"
      },
      "execution_count": 14,
      "outputs": [
        {
          "output_type": "stream",
          "name": "stdout",
          "text": [
            "3^2 + 5 is 14\n"
          ]
        }
      ]
    },
    {
      "cell_type": "code",
      "source": [
        "def my_course (*courses):\n",
        "    print(\"I am considering the following courses\" + courses[1])\n",
        "\n",
        "my_course (\"CS\", \"DS\", \"Eng\")"
      ],
      "metadata": {
        "colab": {
          "base_uri": "https://localhost:8080/"
        },
        "id": "-EPsKSOrDTNQ",
        "outputId": "612a0105-7443-4973-b820-97b8713984e3"
      },
      "execution_count": 16,
      "outputs": [
        {
          "output_type": "stream",
          "name": "stdout",
          "text": [
            "I am considering the following coursesDS\n"
          ]
        }
      ]
    },
    {
      "cell_type": "markdown",
      "source": [
        "### **Python Lambda**"
      ],
      "metadata": {
        "id": "bgJTd4ylD0we"
      }
    },
    {
      "cell_type": "code",
      "source": [
        "x = lambda a : a + 10\n",
        "print(x(5))"
      ],
      "metadata": {
        "colab": {
          "base_uri": "https://localhost:8080/"
        },
        "id": "fu1EmPD2D7fg",
        "outputId": "fb6aa132-5e91-49cc-d042-7bf6a7b4e06c"
      },
      "execution_count": 17,
      "outputs": [
        {
          "output_type": "stream",
          "name": "stdout",
          "text": [
            "15\n"
          ]
        }
      ]
    },
    {
      "cell_type": "code",
      "source": [
        "x = lambda a,b : a*b\n",
        "print(x(5,6))"
      ],
      "metadata": {
        "colab": {
          "base_uri": "https://localhost:8080/"
        },
        "id": "kKxwHajVEJGY",
        "outputId": "047a8c15-bcb7-4a5d-d319-f20f8f19979f"
      },
      "execution_count": 18,
      "outputs": [
        {
          "output_type": "stream",
          "name": "stdout",
          "text": [
            "30\n"
          ]
        }
      ]
    },
    {
      "cell_type": "markdown",
      "source": [
        "## **IMPORT STATEMENT**"
      ],
      "metadata": {
        "id": "L5kGq9rSEX5U"
      }
    },
    {
      "cell_type": "code",
      "source": [
        "#You will be working with some common libraries such as\n",
        "import pandas as pd\n",
        "import numpy as np\n",
        "# ..."
      ],
      "metadata": {
        "id": "yeTIeZptEd5C"
      },
      "execution_count": null,
      "outputs": []
    },
    {
      "cell_type": "code",
      "source": [
        "#Math library\n",
        "import math\n",
        "pi = math.pi\n",
        "print(pi)"
      ],
      "metadata": {
        "colab": {
          "base_uri": "https://localhost:8080/"
        },
        "id": "URptrC0oEo3q",
        "outputId": "edbc0590-90a8-41c3-cdad-1b53fe264ee2"
      },
      "execution_count": 19,
      "outputs": [
        {
          "output_type": "stream",
          "name": "stdout",
          "text": [
            "3.141592653589793\n"
          ]
        }
      ]
    },
    {
      "cell_type": "markdown",
      "source": [
        "# **Introduction to Pandas and Numpy**"
      ],
      "metadata": {
        "id": "UopVWcj2EzuE"
      }
    },
    {
      "cell_type": "code",
      "source": [
        "import pandas as pd\n",
        "import numpy as np"
      ],
      "metadata": {
        "id": "-BpBug7lE5Ru"
      },
      "execution_count": 28,
      "outputs": []
    },
    {
      "cell_type": "code",
      "source": [
        "## df = pd.read_csv('data/Auto.csv')\n",
        "df.head ()##\n",
        "print (f'The Size of df is {df.shape}') # 397 row and n coloumn"
      ],
      "metadata": {
        "id": "pj_aeUBnKQJu"
      },
      "execution_count": null,
      "outputs": []
    },
    {
      "cell_type": "code",
      "source": [
        "df.columns\n"
      ],
      "metadata": {
        "id": "NJ5JWrzcKxxQ"
      },
      "execution_count": null,
      "outputs": []
    },
    {
      "cell_type": "code",
      "source": [
        "type(df['mpg']) #check the type of a column"
      ],
      "metadata": {
        "id": "MpzTAYRvLGNn"
      },
      "execution_count": null,
      "outputs": []
    },
    {
      "cell_type": "code",
      "source": [
        "cars70 = df[df.year==70]\n",
        "cars70.head()"
      ],
      "metadata": {
        "id": "dkHqCzLgMLNu"
      },
      "execution_count": null,
      "outputs": []
    },
    {
      "cell_type": "code",
      "source": [
        "print (f'Number of cars in cars70 DataFrame is {cars70.shape[0]}')"
      ],
      "metadata": {
        "id": "9lgPcgIfMi-S"
      },
      "execution_count": null,
      "outputs": []
    }
  ]
}